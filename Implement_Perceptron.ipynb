{
  "nbformat": 4,
  "nbformat_minor": 0,
  "metadata": {
    "colab": {
      "provenance": [],
      "authorship_tag": "ABX9TyPvyu9GkvYe5MAK9t8XWk+O",
      "include_colab_link": true
    },
    "kernelspec": {
      "name": "python3",
      "display_name": "Python 3"
    },
    "language_info": {
      "name": "python"
    }
  },
  "cells": [
    {
      "cell_type": "markdown",
      "metadata": {
        "id": "view-in-github",
        "colab_type": "text"
      },
      "source": [
        "<a href=\"https://colab.research.google.com/github/ariquintal/machinelearning/blob/main/Implement_Perceptron.ipynb\" target=\"_parent\"><img src=\"https://colab.research.google.com/assets/colab-badge.svg\" alt=\"Open In Colab\"/></a>"
      ]
    },
    {
      "cell_type": "markdown",
      "source": [
        "### **PERCEPTRON**"
      ],
      "metadata": {
        "id": "KqQ5yU4SmFD8"
      }
    },
    {
      "cell_type": "markdown",
      "source": [
        "### **Pseudocode**"
      ],
      "metadata": {
        "id": "KyJEURslmMhm"
      }
    },
    {
      "cell_type": "markdown",
      "source": [
        "\n",
        "\n",
        "Import required libraries\n",
        "\n",
        "Generate random data\n",
        "\n",
        "Initialize weights and bias\n",
        "\n",
        "\n",
        "Perceptron training function:\n",
        "\n",
        "- For each epoch in a range of epochs:\n",
        "\n",
        "  - For each data point (x, y) and its label:\n",
        "       - Calculate prediction.\n",
        "        If the prediction is incorrect:Update weights and bias using the perceptron rule.\n",
        "\n",
        "Calculate the Hinge loss to evaluate the performance\n",
        "\n",
        "Draw points of both classes on the graph\n",
        "\n",
        "Drawing the decision line using the weights and bias\n",
        "\n",
        "Display the graph\n",
        "\n",
        "\n",
        "Function to calculate the Hinge loss:\n",
        "\n",
        "Function hinge_loss(data_x, data_y, labels, weights, bias):\n",
        "\n",
        "  - Initialize loss to 0.\n",
        "    - For each data point (x, y) and its label:\n",
        "        - Calculate the prediction. Add Hinge loss to total\n",
        "\n",
        "\n",
        "Function for updating weights and bias:\n",
        "\n",
        "Function sgd_optimization(weights, bias, x, y, label, learning_rate):\n",
        " - Calculate prediction.\n",
        "   - If prediction is incorrect:\n",
        "      - Update weights and bias using the perceptron rule. Return new weights and bias\n",
        "\n",
        "Calculate Hinge loss to evaluate performance\n",
        "\n",
        "\n",
        "Plot the points of both classes\n",
        "\n",
        "Draw the decision line\n",
        "\n",
        "\n",
        "Display the graph\n"
      ],
      "metadata": {
        "id": "BohDqSFLm4-U"
      }
    },
    {
      "cell_type": "code",
      "source": [
        "import numpy as np\n",
        "import matplotlib.pyplot as plt\n",
        "\n",
        "# Random data\n",
        "n_points = 100\n",
        "class1_x = np.random.normal(2, 1, n_points)\n",
        "class1_y = np.random.normal(2, 1, n_points)\n",
        "class2_x = np.random.normal(6, 1, n_points)\n",
        "class2_y = np.random.normal(6, 1, n_points)\n",
        "data_x = np.concatenate((class1_x, class2_x))\n",
        "data_y = np.concatenate((class1_y, class2_y))\n",
        "labels = np.array([0] * n_points + [1] * n_points)\n",
        "\n",
        "# Initialization of weights and bias\n",
        "weights = np.random.rand(2)\n",
        "bias = np.random.rand()\n",
        "learning_rate = 0.1\n",
        "\n",
        "# Perceptron training function\n",
        "def perceptron_train(data_x, data_y, labels, weights, bias, epochs, learning_rate):\n",
        "    for epoch in range(epochs):\n",
        "        for x, y, label in zip(data_x, data_y, labels):\n",
        "            prediction = np.dot(np.array([x, y]), weights) + bias\n",
        "            if prediction > 0 and label == 0:\n",
        "                weights -= learning_rate * np.array([x, y])\n",
        "                bias -= learning_rate\n",
        "            elif prediction < 0 and label == 1:\n",
        "                weights += learning_rate * np.array([x, y])\n",
        "                bias += learning_rate\n",
        "    return weights, bias\n",
        "\n",
        "# Loss Function (Hinge Loss)\n",
        "def hinge_loss(data_x, data_y, labels, weights, bias):\n",
        "    loss = 0\n",
        "    for x, y, label in zip(data_x, data_y, labels):\n",
        "        prediction = np.dot(np.array([x, y]), weights) + bias\n",
        "        loss += max(0, 1 - label * prediction)\n",
        "    return loss\n",
        "\n",
        "# Implementación de Stochastic Gradient Descent (SGD)\n",
        "def sgd_optimization(weights, bias, x, y, label, learning_rate):\n",
        "    prediction = np.dot(np.array([x, y]), weights) + bias\n",
        "    if prediction > 0 and label == 0:\n",
        "        weights -= learning_rate * np.array([x, y])\n",
        "        bias -= learning_rate\n",
        "    elif prediction < 0 and label == 1:\n",
        "        weights += learning_rate * np.array([x, y])\n",
        "        bias += learning_rate\n",
        "    return weights, bias\n",
        "\n",
        "# Perceptron training function\n",
        "trained_weights, trained_bias = perceptron_train(data_x, data_y, labels, weights, bias, epochs=100, learning_rate=learning_rate)\n",
        "\n",
        "# Value of the Hinge Loss\n",
        "hinge_loss_value = hinge_loss(data_x, data_y, labels, trained_weights, trained_bias)\n",
        "print(f\"Hinge Loss: {hinge_loss_value:.2f}\")\n",
        "\n",
        "# Create a plot for points of both classes\n",
        "plt.scatter(class1_x, class1_y, marker='o', label='Feature 0')\n",
        "plt.scatter(class2_x, class2_y, marker='x', label='Feature 1')\n",
        "\n",
        "# Decision line\n",
        "x_line = np.linspace(0, 8, 100)\n",
        "y_line = (-trained_weights[0] / trained_weights[1]) * x_line - (trained_bias / trained_weights[1])\n",
        "plt.plot(x_line, y_line, color='red', label='Línea de decisión')\n",
        "\n",
        "\n",
        "plt.legend()\n",
        "\n",
        "# Show plot\n",
        "plt.show()\n"
      ],
      "metadata": {
        "colab": {
          "base_uri": "https://localhost:8080/",
          "height": 447
        },
        "id": "SfJ_-aKvDtbp",
        "outputId": "1b87f70d-4d1c-45a1-ed2c-e6df9c5d2106"
      },
      "execution_count": null,
      "outputs": [
        {
          "output_type": "stream",
          "name": "stdout",
          "text": [
            "Hinge Loss: 100.00\n"
          ]
        },
        {
          "output_type": "display_data",
          "data": {
            "text/plain": [
              "<Figure size 640x480 with 1 Axes>"
            ],
            "image/png": "[encoded data removed]"
          },
          "metadata": {}
        }
      ]
    },
    {
      "cell_type": "markdown",
      "source": [
        "### **Loss Function**"
      ],
      "metadata": {
        "id": "gg1scIdHmUC0"
      }
    },
    {
      "cell_type": "markdown",
      "source": [
        "The Hinge Loss function, which is a loss function commonly used for binary classification problems, is used. The Hinge Loss measures the distance between the model predictions and the actual labels. This loss function measures the distance between the decision plane (defined by the weights and bias) and the data points."
      ],
      "metadata": {
        "id": "og59XHV1pMxw"
      }
    },
    {
      "cell_type": "markdown",
      "source": [
        "### **Optimization function**"
      ],
      "metadata": {
        "id": "vBl1_9OumXEt"
      }
    },
    {
      "cell_type": "markdown",
      "source": [
        "The Stochastic Gradient Descent algorithm to adjust the perceptron weights and bias to minimize the loss function. SGD is an iterative method used to find the optimal values of the model parameters. For each data point (x, y) and its label, a prediction is calculated using the same perceptron equation.\n",
        "Then, it is verified whether the prediction is correct or incorrect in relation to the label. The adjustment is made as a function of the direction and magnitude of the gradient of the loss function with respect to the parameters\n"
      ],
      "metadata": {
        "id": "pp701oAdtyzm"
      }
    },
    {
      "cell_type": "code",
      "source": [
        "!jupyter nbconvert --to html Perceptron.ipynb"
      ],
      "metadata": {
        "colab": {
          "base_uri": "https://localhost:8080/"
        },
        "id": "A3DQ_kG8wVrZ",
        "outputId": "4b4fb172-33a9-41e5-e369-4001cb42b7ff"
      },
      "execution_count": null,
      "outputs": [
        {
          "output_type": "stream",
          "name": "stdout",
          "text": [
            "[NbConvertApp] Converting notebook Perceptron.ipynb to html\n",
            "[NbConvertApp] Writing 635959 bytes to Perceptron.html\n"
          ]
        }
      ]
    }
  ]
}